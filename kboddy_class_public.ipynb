{
 "cells": [
  {
   "cell_type": "markdown",
   "metadata": {},
   "source": [
    "# kboddy/class_public branch:dmeff"
   ]
  },
  {
   "cell_type": "code",
   "execution_count": 1,
   "metadata": {},
   "outputs": [],
   "source": [
    "import numpy as np\n",
    "from classy import Class\n",
    "from shared_params import shared_params\n",
    "\n",
    "params = shared_params.copy()\n",
    "lmax = shared_params['l_max_scalars']\n",
    "params.update({\n",
    "    'sigma_dmeff': 1e-26,  # in cm^2\n",
    "    'npow_dmeff': 0,\n",
    "    'dmeff_target': 'baryon',\n",
    "    'tight_coupling_trigger_tau_c_over_tau_h': 0.0,\n",
    "    'tight_coupling_trigger_tau_c_over_tau_k': 0.0,\n",
    "})\n",
    "\n",
    "cosmo = Class()\n",
    "cosmo.set(params)\n",
    "cosmo.compute()\n",
    "cls = cosmo.lensed_cl(lmax)\n",
    "\n",
    "np.save('output/kboddy.npy', cosmo.lensed_cl()['tt'])\n",
    "\n",
    "cosmo.struct_cleanup()\n",
    "cosmo.empty()"
   ]
  },
  {
   "cell_type": "markdown",
   "metadata": {},
   "source": [
    "# generate fiducial"
   ]
  },
  {
   "cell_type": "code",
   "execution_count": 2,
   "metadata": {},
   "outputs": [],
   "source": [
    "params['sigma_dmeff'] = 0.0\n",
    "\n",
    "cosmo = Class()\n",
    "cosmo.set(params)\n",
    "cosmo.compute()\n",
    "cls = cosmo.lensed_cl(lmax)\n",
    "\n",
    "np.save('output/fidkboddy.npy', cosmo.lensed_cl()['tt'])\n",
    "\n",
    "cosmo.struct_cleanup()\n",
    "cosmo.empty()"
   ]
  },
  {
   "cell_type": "code",
   "execution_count": null,
   "metadata": {},
   "outputs": [],
   "source": []
  }
 ],
 "metadata": {
  "kernelspec": {
   "display_name": "Python 3 (dm_act)",
   "language": "python",
   "name": "dm_act"
  },
  "language_info": {
   "codemirror_mode": {
    "name": "ipython",
    "version": 3
   },
   "file_extension": ".py",
   "mimetype": "text/x-python",
   "name": "python",
   "nbconvert_exporter": "python",
   "pygments_lexer": "ipython3",
   "version": "3.8.3"
  }
 },
 "nbformat": 4,
 "nbformat_minor": 4
}
