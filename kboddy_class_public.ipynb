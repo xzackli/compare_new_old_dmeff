{
 "cells": [
  {
   "cell_type": "code",
   "execution_count": 1,
   "metadata": {},
   "outputs": [],
   "source": [
    "import numpy as np\n",
    "from classy import Class\n",
    "\n",
    "params = {\n",
    "    'output': 'tCl,pCl,lCl,mPk',\n",
    "    'l_max_scalars': 5000,\n",
    "    'lensing': 'yes',\n",
    "    'non linear': '',\n",
    "    'gauge' : 'synchronous',\n",
    "    'A_s': 2.3e-9,\n",
    "    'n_s': 0.96, \n",
    "    'h': 0.67,\n",
    "    'omega_b': 0.022,\n",
    "    'omega_cdm': 1e-12,\n",
    "    'omega_dmeff': 0.12,\n",
    "    'm_dmeff':1,\n",
    "    \n",
    "    'sigma_dmeff': 1e-26,\n",
    "    'npow_dmeff': 0,\n",
    "    'dmeff_target': 'baryon',\n",
    "    'tight_coupling_trigger_tau_c_over_tau_h': 0.0,\n",
    "    'tight_coupling_trigger_tau_c_over_tau_k': 0.0,\n",
    "}\n",
    "\n",
    "cosmo = Class()\n",
    "cosmo.set(params)\n",
    "cosmo.compute()\n",
    "cls = cosmo.lensed_cl(5000)\n",
    "\n",
    "np.save('output/kboddy.npy', cosmo.lensed_cl()['tt'])\n",
    "\n",
    "cosmo.struct_cleanup()\n",
    "cosmo.empty()"
   ]
  },
  {
   "cell_type": "markdown",
   "metadata": {},
   "source": [
    "# generate fiducial"
   ]
  },
  {
   "cell_type": "code",
   "execution_count": 2,
   "metadata": {},
   "outputs": [],
   "source": [
    "params['sigma_dmeff'] = 0.0\n",
    "\n",
    "cosmo = Class()\n",
    "cosmo.set(params)\n",
    "cosmo.compute()\n",
    "cls = cosmo.lensed_cl(5000)\n",
    "\n",
    "np.save('output/fid.npy', cosmo.lensed_cl()['tt'])\n",
    "\n",
    "cosmo.struct_cleanup()\n",
    "cosmo.empty()"
   ]
  },
  {
   "cell_type": "code",
   "execution_count": null,
   "metadata": {},
   "outputs": [],
   "source": []
  }
 ],
 "metadata": {
  "kernelspec": {
   "display_name": "Python 3 (dm_act)",
   "language": "python",
   "name": "dm_act"
  },
  "language_info": {
   "codemirror_mode": {
    "name": "ipython",
    "version": 3
   },
   "file_extension": ".py",
   "mimetype": "text/x-python",
   "name": "python",
   "nbconvert_exporter": "python",
   "pygments_lexer": "ipython3",
   "version": "3.8.3"
  }
 },
 "nbformat": 4,
 "nbformat_minor": 4
}
