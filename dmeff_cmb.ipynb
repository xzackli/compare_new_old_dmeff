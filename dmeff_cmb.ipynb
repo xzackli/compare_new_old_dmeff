{
 "cells": [
  {
   "cell_type": "code",
   "execution_count": 1,
   "metadata": {},
   "outputs": [
    {
     "name": "stdout",
     "output_type": "stream",
     "text": [
      "sigma_p = 1.0005927783135038e-30\n"
     ]
    }
   ],
   "source": [
    "import numpy as np\n",
    "from classy import Class\n",
    "\n",
    "def sigma_to_dmeff(sigma, mass_X=1.0):\n",
    "    mp = 0.9382720813\n",
    "    GeV = 1./(0.19732705e-15)\n",
    "    cc_conversion = (1./( (246.22 * GeV)**4 * np.pi)) * \\\n",
    "        ( (mass_X * mp) / (mass_X + mp) * GeV )**2\n",
    "    return np.sqrt( sigma / cc_conversion )\n",
    "\n",
    "params = {\n",
    "    'output': 'tCl,pCl,lCl,mPk',\n",
    "    'l_max_scalars': 5000,\n",
    "    'lensing': 'yes',\n",
    "    'non linear': '',\n",
    "    'gauge' : 'synchronous',\n",
    "    'A_s': 2.3e-9,\n",
    "    'n_s': 0.96, \n",
    "    'h': 0.67,\n",
    "    'omega_b': 0.022,\n",
    "    'omega_cdm': 1e-12,\n",
    "    'omega_dmeff': 0.12,\n",
    "    'm_dmeff':1,\n",
    "    \n",
    "    'cc_dmeff_p': sigma_to_dmeff(1e-30),  # in m^2\n",
    "    'cc_dmeff_op':1,\n",
    "    'spin_dmeff': 0.5,\n",
    "    'cc_dmeff_n':0.,\n",
    "    'use_temperature_dmeff':'yes',\n",
    "    'use_helium_dmeff':'yes',\n",
    "    'cc_dmeff_num':1,\n",
    "    'cc_dmeff_qm2':0,\n",
    "    'tight_coupling_trigger_tau_c_over_tau_k':0.,\n",
    "    'tight_coupling_trigger_tau_c_over_tau_h':0.\n",
    "}\n",
    "\n",
    "cosmo = Class()\n",
    "cosmo.set(params)\n",
    "cosmo.compute()\n",
    "cls = cosmo.lensed_cl(5000)\n",
    "\n",
    "np.save('output/dmeffcmb.npy', cosmo.lensed_cl()['tt'])\n",
    "print(\"sigma_p =\", cosmo.dmeff_sigma(0))\n",
    "\n",
    "cosmo.struct_cleanup()\n",
    "cosmo.empty()"
   ]
  },
  {
   "cell_type": "code",
   "execution_count": null,
   "metadata": {},
   "outputs": [],
   "source": []
  }
 ],
 "metadata": {
  "kernelspec": {
   "display_name": "Python 3.8.2 64-bit ('dmeffcmb': conda)",
   "language": "python",
   "name": "python38264bitdmeffcmbconda478ee439e15147808227b1e8879db07e"
  },
  "language_info": {
   "codemirror_mode": {
    "name": "ipython",
    "version": 3
   },
   "file_extension": ".py",
   "mimetype": "text/x-python",
   "name": "python",
   "nbconvert_exporter": "python",
   "pygments_lexer": "ipython3",
   "version": "3.8.3"
  }
 },
 "nbformat": 4,
 "nbformat_minor": 4
}
